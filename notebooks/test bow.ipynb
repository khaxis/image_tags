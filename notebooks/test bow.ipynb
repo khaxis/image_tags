{
 "cells": [
  {
   "cell_type": "code",
   "execution_count": 1,
   "metadata": {
    "collapsed": false
   },
   "outputs": [],
   "source": [
    "import sys\n",
    "import os\n",
    "sys.path.append(os.path.abspath('..'))\n",
    "from utils import img_collection as icoll\n",
    "import numpy as np\n",
    "from bson.objectid import ObjectId\n",
    "\n",
    "import numpy as np\n",
    "from sklearn.model_selection import train_test_split\n",
    "from sklearn import svm\n",
    "from sklearn.metrics import accuracy_score, precision_score, confusion_matrix\n",
    "\n",
    "from matplotlib.pyplot import imshow\n",
    "import matplotlib.pyplot as plt\n",
    "from PIL import Image\n",
    "#from IPython.display import display, Image\n",
    "import random\n",
    "\n",
    "\n",
    "%matplotlib inline"
   ]
  },
  {
   "cell_type": "code",
   "execution_count": 2,
   "metadata": {
    "collapsed": false
   },
   "outputs": [],
   "source": [
    "poolId = '581645620310e906e31b07ba'\n",
    "poolIdObj = ObjectId(poolId)\n",
    "targets = []\n",
    "features = []\n",
    "for i, r in enumerate(icoll.getPoolUrlsIterator(poolId)):\n",
    "    if 'slices' not in r:\n",
    "        continue\n",
    "    targets.append([desc for desc in r['pools'] if desc['poolId'] == poolIdObj][0]['target'])\n",
    "    features.append(r['slices']['bowSift100']['features'])\n"
   ]
  },
  {
   "cell_type": "code",
   "execution_count": 26,
   "metadata": {
    "collapsed": false
   },
   "outputs": [],
   "source": [
    "poolId = '581645620310e906e31b07ba'\n",
    "poolIdObj = ObjectId(poolId)\n",
    "targets = []\n",
    "features = []\n",
    "for i, r in enumerate(icoll.getPoolUrlsIterator(poolId)):\n",
    "    if 'slices' not in r:\n",
    "        continue\n",
    "    targets.append([desc for desc in r['pools'] if desc['poolId'] == poolIdObj][0]['target'])\n",
    "    features.append((r['path'], r['slices']['bowSift100']['features']))\n"
   ]
  },
  {
   "cell_type": "code",
   "execution_count": 3,
   "metadata": {
    "collapsed": false
   },
   "outputs": [
    {
     "data": {
      "text/plain": [
       "(1034, 182)"
      ]
     },
     "execution_count": 3,
     "metadata": {},
     "output_type": "execute_result"
    }
   ],
   "source": [
    "len(targets), sum(targets)"
   ]
  },
  {
   "cell_type": "code",
   "execution_count": 29,
   "metadata": {
    "collapsed": false
   },
   "outputs": [],
   "source": [
    "X_train_ext, X_test_ext, y_train, y_test = train_test_split(features, targets, test_size=0.33)\n",
    "X_train = [x[1] for x in X_train_ext]\n",
    "X_test = [x[1] for x in X_test_ext]"
   ]
  },
  {
   "cell_type": "code",
   "execution_count": 31,
   "metadata": {
    "collapsed": false
   },
   "outputs": [
    {
     "data": {
      "text/plain": [
       "0.8771929824561403"
      ]
     },
     "execution_count": 31,
     "metadata": {},
     "output_type": "execute_result"
    }
   ],
   "source": [
    "clf = svm.SVC(kernel='rbf', C=128).fit(X_train, y_train)\n",
    "clf.score(X_test, y_test)"
   ]
  },
  {
   "cell_type": "code",
   "execution_count": 6,
   "metadata": {
    "collapsed": false
   },
   "outputs": [
    {
     "data": {
      "text/plain": [
       "array([0, 0, 0, 0, 0, 0, 0, 0, 0, 0, 0, 0, 0, 0, 0, 0, 0, 0, 0, 0, 0, 0, 0,\n",
       "       0, 0, 0, 0, 0, 1, 0, 0, 1, 0, 1, 0, 0, 0, 1, 0, 0, 0, 0, 0, 0, 0, 0,\n",
       "       0, 1, 0, 0, 0, 0, 1, 0, 0, 0, 1, 0, 0, 0, 0, 0, 0, 0, 0, 0, 0, 0, 0,\n",
       "       0, 1, 0, 0, 1, 0, 0, 0, 0, 0, 0, 0, 0, 0, 0, 0, 1, 0, 1, 1, 0, 1, 0,\n",
       "       0, 0, 1, 0, 0, 0, 0, 1, 0, 1, 0, 0, 0, 0, 0, 0, 0, 0, 0, 0, 0, 0, 0,\n",
       "       0, 1, 0, 0, 0, 0, 1, 0, 0, 0, 0, 0, 0, 0, 0, 0, 0, 1, 0, 0, 0, 0, 0,\n",
       "       0, 0, 1, 0, 0, 0, 0, 0, 0, 0, 0, 0, 0, 0, 0, 0, 0, 0, 0, 0, 0, 0, 0,\n",
       "       0, 0, 0, 0, 0, 0, 0, 0, 0, 0, 0, 0, 0, 0, 0, 0, 0, 0, 0, 0, 0, 0, 0,\n",
       "       0, 0, 1, 1, 0, 0, 0, 0, 0, 0, 0, 0, 0, 1, 0, 0, 0, 0, 0, 0, 0, 0, 0,\n",
       "       0, 0, 0, 0, 0, 0, 0, 1, 0, 1, 0, 0, 0, 0, 0, 0, 0, 0, 0, 0, 0, 1, 0,\n",
       "       0, 0, 0, 0, 0, 0, 0, 0, 1, 0, 0, 0, 0, 0, 0, 0, 0, 0, 0, 0, 0, 0, 0,\n",
       "       0, 0, 0, 0, 0, 0, 0, 0, 0, 0, 0, 0, 0, 0, 0, 0, 0, 0, 0, 0, 0, 0, 0,\n",
       "       0, 0, 0, 0, 0, 0, 0, 0, 0, 0, 0, 0, 0, 0, 0, 0, 0, 0, 0, 0, 0, 0, 0,\n",
       "       0, 0, 0, 0, 0, 0, 0, 0, 0, 0, 0, 0, 1, 0, 1, 0, 1, 0, 0, 1, 0, 0, 0,\n",
       "       0, 0, 0, 0, 0, 0, 0, 0, 0, 0, 1, 0, 0, 0, 0, 0, 0, 0, 0, 0])"
      ]
     },
     "execution_count": 6,
     "metadata": {},
     "output_type": "execute_result"
    }
   ],
   "source": [
    "clf.predict(X_test)"
   ]
  },
  {
   "cell_type": "code",
   "execution_count": 11,
   "metadata": {
    "collapsed": false
   },
   "outputs": [
    {
     "data": {
      "text/plain": [
       "0.43548387096774194"
      ]
     },
     "execution_count": 11,
     "metadata": {},
     "output_type": "execute_result"
    }
   ],
   "source": [
    "precision_score(clf.predict(X_test), y_test)"
   ]
  },
  {
   "cell_type": "code",
   "execution_count": 12,
   "metadata": {
    "collapsed": false
   },
   "outputs": [],
   "source": [
    "def perf_measure(y_actual, y_hat):\n",
    "    CM = confusion_matrix(y_test, clf.predict(X_test))\n",
    "    TN = CM[0][0]\n",
    "    FN = CM[1][0]\n",
    "    TP = CM[1][1]\n",
    "    FP = CM[0][1]\n",
    "    return(TP, FP, TN, FN)"
   ]
  },
  {
   "cell_type": "code",
   "execution_count": 13,
   "metadata": {
    "collapsed": false
   },
   "outputs": [
    {
     "data": {
      "text/plain": [
       "(27, 6, 274, 35)"
      ]
     },
     "execution_count": 13,
     "metadata": {},
     "output_type": "execute_result"
    }
   ],
   "source": [
    "perf_measure(y_test, clf.predict(X_test))"
   ]
  },
  {
   "cell_type": "code",
   "execution_count": 30,
   "metadata": {
    "collapsed": false
   },
   "outputs": [
    {
     "name": "stdout",
     "output_type": "stream",
     "text": [
      "1.0\t0.853801169591\t0.246153846154\t16\t1\t276\t49\n",
      "1.07177346254\t0.862573099415\t0.292307692308\t19\t1\t276\t46\n",
      "1.148698355\t0.868421052632\t0.323076923077\t21\t1\t276\t44\n",
      "1.23114441334\t0.868421052632\t0.323076923077\t21\t1\t276\t44\n",
      "1.31950791077\t0.868421052632\t0.323076923077\t21\t1\t276\t44\n",
      "1.41421356237\t0.868421052632\t0.323076923077\t21\t1\t276\t44\n",
      "1.51571656651\t0.868421052632\t0.338461538462\t22\t2\t275\t43\n",
      "1.62450479271\t0.874269005848\t0.369230769231\t24\t2\t275\t41\n",
      "1.74110112659\t0.883040935673\t0.415384615385\t27\t2\t275\t38\n",
      "1.86606598307\t0.883040935673\t0.415384615385\t27\t2\t275\t38\n",
      "2.0\t0.885964912281\t0.430769230769\t28\t2\t275\t37\n",
      "2.14354692507\t0.891812865497\t0.461538461538\t30\t2\t275\t35\n",
      "2.29739670999\t0.888888888889\t0.461538461538\t30\t3\t274\t35\n",
      "2.46228882669\t0.888888888889\t0.461538461538\t30\t3\t274\t35\n",
      "2.63901582155\t0.888888888889\t0.461538461538\t30\t3\t274\t35\n",
      "2.82842712475\t0.888888888889\t0.461538461538\t30\t3\t274\t35\n",
      "3.03143313302\t0.888888888889\t0.461538461538\t30\t3\t274\t35\n",
      "3.24900958542\t0.888888888889\t0.461538461538\t30\t3\t274\t35\n",
      "3.48220225318\t0.888888888889\t0.461538461538\t30\t3\t274\t35\n",
      "3.73213196615\t0.888888888889\t0.461538461538\t30\t3\t274\t35\n",
      "4.0\t0.888888888889\t0.461538461538\t30\t3\t274\t35\n",
      "4.28709385015\t0.888888888889\t0.461538461538\t30\t3\t274\t35\n",
      "4.59479341999\t0.888888888889\t0.476923076923\t31\t4\t273\t34\n",
      "4.92457765338\t0.891812865497\t0.476923076923\t31\t3\t274\t34\n",
      "5.27803164309\t0.888888888889\t0.476923076923\t31\t4\t273\t34\n",
      "5.65685424949\t0.888888888889\t0.476923076923\t31\t4\t273\t34\n",
      "6.06286626604\t0.888888888889\t0.476923076923\t31\t4\t273\t34\n",
      "6.49801917085\t0.891812865497\t0.492307692308\t32\t4\t273\t33\n",
      "6.96440450637\t0.894736842105\t0.507692307692\t33\t4\t273\t32\n",
      "7.46426393229\t0.894736842105\t0.507692307692\t33\t4\t273\t32\n",
      "8.0\t0.894736842105\t0.507692307692\t33\t4\t273\t32\n",
      "8.57418770029\t0.894736842105\t0.507692307692\t33\t4\t273\t32\n",
      "9.18958683998\t0.894736842105\t0.507692307692\t33\t4\t273\t32\n",
      "9.84915530676\t0.891812865497\t0.507692307692\t33\t5\t272\t32\n",
      "10.5560632862\t0.891812865497\t0.507692307692\t33\t5\t272\t32\n",
      "11.313708499\t0.891812865497\t0.507692307692\t33\t5\t272\t32\n",
      "12.1257325321\t0.891812865497\t0.507692307692\t33\t5\t272\t32\n",
      "12.9960383417\t0.894736842105\t0.523076923077\t34\t5\t272\t31\n",
      "13.9288090127\t0.891812865497\t0.523076923077\t34\t6\t271\t31\n",
      "14.9285278646\t0.891812865497\t0.538461538462\t35\t7\t270\t30\n",
      "16.0\t0.888888888889\t0.538461538462\t35\t8\t269\t30\n",
      "17.1483754006\t0.888888888889\t0.538461538462\t35\t8\t269\t30\n",
      "18.37917368\t0.894736842105\t0.569230769231\t37\t8\t269\t28\n",
      "19.6983106135\t0.894736842105\t0.569230769231\t37\t8\t269\t28\n",
      "21.1121265724\t0.888888888889\t0.569230769231\t37\t10\t267\t28\n",
      "22.627416998\t0.888888888889\t0.569230769231\t37\t10\t267\t28\n",
      "24.2514650642\t0.891812865497\t0.6\t39\t11\t266\t26\n",
      "25.9920766834\t0.891812865497\t0.6\t39\t11\t266\t26\n",
      "27.8576180255\t0.891812865497\t0.6\t39\t11\t266\t26\n",
      "29.8570557292\t0.894736842105\t0.615384615385\t40\t11\t266\t25\n",
      "32.0\t0.894736842105\t0.615384615385\t40\t11\t266\t25\n",
      "34.2967508012\t0.90350877193\t0.661538461538\t43\t11\t266\t22\n",
      "36.7583473599\t0.906432748538\t0.676923076923\t44\t11\t266\t21\n",
      "39.396621227\t0.90350877193\t0.676923076923\t44\t12\t265\t21\n",
      "42.2242531447\t0.90350877193\t0.676923076923\t44\t12\t265\t21\n",
      "45.2548339959\t0.906432748538\t0.692307692308\t45\t12\t265\t20\n",
      "48.5029301283\t0.906432748538\t0.692307692308\t45\t12\t265\t20\n",
      "51.9841533668\t0.906432748538\t0.692307692308\t45\t12\t265\t20\n",
      "55.715236051\t0.900584795322\t0.676923076923\t44\t13\t264\t21\n",
      "59.7141114584\t0.897660818713\t0.661538461538\t43\t13\t264\t22\n",
      "64.0\t0.897660818713\t0.661538461538\t43\t13\t264\t22\n",
      "68.5935016023\t0.894736842105\t0.661538461538\t43\t14\t263\t22\n",
      "73.5166947198\t0.891812865497\t0.646153846154\t42\t14\t263\t23\n",
      "78.7932424541\t0.891812865497\t0.646153846154\t42\t14\t263\t23\n",
      "84.4485062895\t0.888888888889\t0.646153846154\t42\t15\t262\t23\n",
      "90.5096679919\t0.883040935673\t0.630769230769\t41\t16\t261\t24\n",
      "97.0058602567\t0.877192982456\t0.630769230769\t41\t18\t259\t24\n",
      "103.968306734\t0.874269005848\t0.630769230769\t41\t19\t258\t24\n",
      "111.430472102\t0.877192982456\t0.646153846154\t42\t19\t258\t23\n",
      "119.428222917\t0.880116959064\t0.646153846154\t42\t18\t259\t23\n",
      "128.0\t0.877192982456\t0.646153846154\t42\t19\t258\t23\n",
      "137.187003205\t0.877192982456\t0.646153846154\t42\t19\t258\t23\n",
      "147.03338944\t0.877192982456\t0.646153846154\t42\t19\t258\t23\n",
      "157.586484908\t0.877192982456\t0.646153846154\t42\t19\t258\t23\n",
      "168.897012579\t0.877192982456\t0.646153846154\t42\t19\t258\t23\n",
      "181.019335984\t0.877192982456\t0.646153846154\t42\t19\t258\t23\n",
      "194.011720513\t0.877192982456\t0.646153846154\t42\t19\t258\t23\n",
      "207.936613467\t0.877192982456\t0.646153846154\t42\t19\t258\t23\n",
      "222.860944204\t0.874269005848\t0.646153846154\t42\t20\t257\t23\n",
      "238.856445833\t0.874269005848\t0.646153846154\t42\t20\t257\t23\n",
      "256.0\t0.877192982456\t0.661538461538\t43\t20\t257\t22\n",
      "274.374006409\t0.880116959064\t0.661538461538\t43\t19\t258\t22\n",
      "294.066778879\t0.880116959064\t0.661538461538\t43\t19\t258\t22\n",
      "315.172969816\t0.883040935673\t0.661538461538\t43\t18\t259\t22\n",
      "337.794025158\t0.883040935673\t0.676923076923\t44\t19\t258\t21\n",
      "362.038671968\t0.883040935673\t0.661538461538\t43\t18\t259\t22\n",
      "388.023441027\t0.883040935673\t0.661538461538\t43\t18\t259\t22\n",
      "415.873226934\t0.883040935673\t0.661538461538\t43\t18\t259\t22\n",
      "445.721888408\t0.883040935673\t0.661538461538\t43\t18\t259\t22\n",
      "477.712891667\t0.883040935673\t0.661538461538\t43\t18\t259\t22\n",
      "512.0\t0.883040935673\t0.661538461538\t43\t18\t259\t22\n",
      "548.748012819\t0.883040935673\t0.661538461538\t43\t18\t259\t22\n",
      "588.133557758\t0.883040935673\t0.661538461538\t43\t18\t259\t22\n",
      "630.345939633\t0.880116959064\t0.661538461538\t43\t19\t258\t22\n",
      "675.588050316\t0.877192982456\t0.661538461538\t43\t20\t257\t22\n",
      "724.077343935\t0.880116959064\t0.676923076923\t44\t20\t257\t21\n",
      "776.046882053\t0.877192982456\t0.661538461538\t43\t20\t257\t22\n",
      "831.746453869\t0.877192982456\t0.661538461538\t43\t20\t257\t22\n",
      "891.443776815\t0.877192982456\t0.661538461538\t43\t20\t257\t22\n",
      "955.425783334\t0.880116959064\t0.661538461538\t43\t19\t258\t22\n",
      "1024.0\t0.880116959064\t0.661538461538\t43\t19\t258\t22\n",
      "1097.49602564\t0.880116959064\t0.661538461538\t43\t19\t258\t22\n",
      "1176.26711552\t0.880116959064\t0.661538461538\t43\t19\t258\t22\n",
      "1260.69187927\t0.880116959064\t0.676923076923\t44\t20\t257\t21\n",
      "1351.17610063\t0.880116959064\t0.676923076923\t44\t20\t257\t21\n",
      "1448.15468787\t0.883040935673\t0.692307692308\t45\t20\t257\t20\n",
      "1552.09376411\t0.880116959064\t0.692307692308\t45\t21\t256\t20\n",
      "1663.49290774\t0.880116959064\t0.692307692308\t45\t21\t256\t20\n",
      "1782.88755363\t0.880116959064\t0.692307692308\t45\t21\t256\t20\n",
      "1910.85156667\t0.880116959064\t0.692307692308\t45\t21\t256\t20\n",
      "2048.0\t0.880116959064\t0.692307692308\t45\t21\t256\t20\n",
      "2194.99205127\t0.880116959064\t0.692307692308\t45\t21\t256\t20\n",
      "2352.53423103\t0.880116959064\t0.692307692308\t45\t21\t256\t20\n",
      "2521.38375853\t0.880116959064\t0.692307692308\t45\t21\t256\t20\n",
      "2702.35220126\t0.880116959064\t0.692307692308\t45\t21\t256\t20\n",
      "2896.30937574\t0.880116959064\t0.692307692308\t45\t21\t256\t20\n",
      "3104.18752821\t0.880116959064\t0.692307692308\t45\t21\t256\t20\n",
      "3326.98581548\t0.880116959064\t0.692307692308\t45\t21\t256\t20\n",
      "3565.77510726\t0.880116959064\t0.692307692308\t45\t21\t256\t20\n",
      "3821.70313333\t0.880116959064\t0.692307692308\t45\t21\t256\t20\n",
      "4096.0\t0.880116959064\t0.692307692308\t45\t21\t256\t20\n",
      "4389.98410255\t0.880116959064\t0.692307692308\t45\t21\t256\t20\n",
      "4705.06846207\t0.880116959064\t0.692307692308\t45\t21\t256\t20\n",
      "5042.76751706\t0.880116959064\t0.692307692308\t45\t21\t256\t20\n",
      "5404.70440253\t0.880116959064\t0.692307692308\t45\t21\t256\t20\n",
      "5792.61875148\t0.880116959064\t0.692307692308\t45\t21\t256\t20\n",
      "6208.37505643\t0.880116959064\t0.692307692308\t45\t21\t256\t20\n",
      "6653.97163095\t0.880116959064\t0.692307692308\t45\t21\t256\t20\n",
      "7131.55021452\t0.880116959064\t0.692307692308\t45\t21\t256\t20\n",
      "7643.40626667\t0.880116959064\t0.692307692308\t45\t21\t256\t20\n",
      "8192.0\t0.880116959064\t0.692307692308\t45\t21\t256\t20\n",
      "8779.9682051\t0.880116959064\t0.692307692308\t45\t21\t256\t20\n",
      "9410.13692414\t0.880116959064\t0.692307692308\t45\t21\t256\t20\n",
      "10085.5350341\t0.880116959064\t0.692307692308\t45\t21\t256\t20\n",
      "10809.4088051\t0.880116959064\t0.692307692308\t45\t21\t256\t20\n",
      "11585.237503\t0.880116959064\t0.692307692308\t45\t21\t256\t20\n",
      "12416.7501129\t0.880116959064\t0.692307692308\t45\t21\t256\t20\n",
      "13307.9432619\t0.880116959064\t0.692307692308\t45\t21\t256\t20\n",
      "14263.100429\t0.880116959064\t0.692307692308\t45\t21\t256\t20\n",
      "15286.8125333\t0.880116959064\t0.692307692308\t45\t21\t256\t20\n",
      "16384.0\t0.880116959064\t0.692307692308\t45\t21\t256\t20\n",
      "17559.9364102\t0.880116959064\t0.692307692308\t45\t21\t256\t20\n",
      "18820.2738483\t0.880116959064\t0.692307692308\t45\t21\t256\t20\n",
      "20171.0700682\t0.880116959064\t0.692307692308\t45\t21\t256\t20\n",
      "21618.8176101\t0.880116959064\t0.692307692308\t45\t21\t256\t20\n",
      "23170.4750059\t0.880116959064\t0.692307692308\t45\t21\t256\t20\n",
      "24833.5002257\t0.880116959064\t0.692307692308\t45\t21\t256\t20\n",
      "26615.8865238\t0.880116959064\t0.692307692308\t45\t21\t256\t20\n",
      "28526.2008581\t0.880116959064\t0.692307692308\t45\t21\t256\t20\n",
      "30573.6250667\t0.880116959064\t0.692307692308\t45\t21\t256\t20\n"
     ]
    }
   ],
   "source": [
    "for i in range(0,150):\n",
    "    C = 2**(i/10.)\n",
    "    clf = svm.SVC(kernel='rbf', C=C).fit(X_train, y_train)\n",
    "    y_hat = clf.predict(X_test)\n",
    "    score = clf.score(X_test, y_test)\n",
    "    precision = precision_score(y_hat, y_test)\n",
    "    TP, FP, TN, FN = perf_measure(y_test, y_hat)\n",
    "    print '\\t'.join(map(str, [C, score, precision, TP, FP, TN, FN]))"
   ]
  },
  {
   "cell_type": "code",
   "execution_count": 32,
   "metadata": {
    "collapsed": false
   },
   "outputs": [],
   "source": [
    "clf = svm.SVC(kernel='rbf', C=128).fit(X_train, y_train)\n",
    "y_hat = clf.predict(X_test)\n"
   ]
  },
  {
   "cell_type": "code",
   "execution_count": 92,
   "metadata": {
    "collapsed": false,
    "scrolled": false
   },
   "outputs": [
    {
     "name": "stdout",
     "output_type": "stream",
     "text": [
      "FPs\n",
      "/Users/khaxis/workspace/image_tags/data/images/n04059516_8556\n",
      "/Users/khaxis/workspace/image_tags/data/images/n09828216_28461\n",
      "/Users/khaxis/workspace/image_tags/data/images/n01839330_1579\n",
      "/Users/khaxis/workspace/image_tags/data/images/n02738978_9751\n",
      "/Users/khaxis/workspace/image_tags/data/images/n09443641_11498\n",
      "/Users/khaxis/workspace/image_tags/data/images/n11698245_768\n",
      "/Users/khaxis/workspace/image_tags/data/images/n11536673_5305\n",
      "/Users/khaxis/workspace/image_tags/data/images/n11686912_4790\n",
      "/Users/khaxis/workspace/image_tags/data/images/n01564773_8613\n",
      "/Users/khaxis/workspace/image_tags/data/images/n13083023_8274\n",
      "/Users/khaxis/workspace/image_tags/data/images/n02077152_2910\n",
      "/Users/khaxis/workspace/image_tags/data/images/n01443243_1533\n",
      "/Users/khaxis/workspace/image_tags/data/images/n01835276_9208\n",
      "/Users/khaxis/workspace/image_tags/data/images/n01647303_1007\n",
      "/Users/khaxis/workspace/image_tags/data/images/n09451237_8408\n",
      "/Users/khaxis/workspace/image_tags/data/images/n10577820_458\n",
      "/Users/khaxis/workspace/image_tags/data/images/n03676483_29457\n",
      "/Users/khaxis/workspace/image_tags/data/images/n10622053_23243\n",
      "/Users/khaxis/workspace/image_tags/data/images/n11552806_7910\n",
      "\n",
      "FNs\n",
      "/Users/khaxis/workspace/image_tags/data/images/n12145148_4391\n",
      "/Users/khaxis/workspace/image_tags/data/images/n12145148_554\n",
      "/Users/khaxis/workspace/image_tags/data/images/n12144987_1938\n",
      "/Users/khaxis/workspace/image_tags/data/images/n12144987_345\n",
      "/Users/khaxis/workspace/image_tags/data/images/n12144987_1307\n",
      "/Users/khaxis/workspace/image_tags/data/images/n12144987_2509\n",
      "/Users/khaxis/workspace/image_tags/data/images/n12144987_306\n",
      "/Users/khaxis/workspace/image_tags/data/images/n12144987_656\n",
      "/Users/khaxis/workspace/image_tags/data/images/n12144987_626\n",
      "/Users/khaxis/workspace/image_tags/data/images/n12144987_1034\n",
      "/Users/khaxis/workspace/image_tags/data/images/n12145148_2339\n",
      "/Users/khaxis/workspace/image_tags/data/images/n12145148_4034\n",
      "/Users/khaxis/workspace/image_tags/data/images/n12144987_2046\n",
      "/Users/khaxis/workspace/image_tags/data/images/n12144987_2982\n",
      "/Users/khaxis/workspace/image_tags/data/images/n12145148_219\n",
      "/Users/khaxis/workspace/image_tags/data/images/n12145148_4077\n",
      "/Users/khaxis/workspace/image_tags/data/images/n12145148_1544\n",
      "/Users/khaxis/workspace/image_tags/data/images/n12145148_5534\n",
      "/Users/khaxis/workspace/image_tags/data/images/n12144987_1550\n",
      "/Users/khaxis/workspace/image_tags/data/images/n12145148_1264\n",
      "/Users/khaxis/workspace/image_tags/data/images/n12144987_123\n",
      "/Users/khaxis/workspace/image_tags/data/images/n12145148_5356\n",
      "/Users/khaxis/workspace/image_tags/data/images/n12144987_2866\n"
     ]
    }
   ],
   "source": [
    "FPs = np.logical_and(np.logical_not(np.array(y_test, dtype=bool)), np.array(y_hat, dtype=bool))\n",
    "FNs = np.logical_and(np.array(y_test, dtype=bool), np.logical_not(np.array(y_hat, dtype=bool)))\n",
    "\n",
    "print \"FPs\"\n",
    "for i in range(len(X_test)):\n",
    "    if FPs[i]:\n",
    "        print X_test_ext[i][0]\n",
    "        #pil_im = Image.open(X_test_ext[i][0], 'r')\n",
    "        #imshow(np.asarray(pil_im))\n",
    "        #plt.imshow(pil_im)\n",
    "\n",
    "print \n",
    "print \"FNs\"\n",
    "for i in range(len(X_test)):\n",
    "    if FNs[i]:\n",
    "        print X_test_ext[i][0]\n",
    "        X_test_ext[i][0]\n"
   ]
  },
  {
   "cell_type": "code",
   "execution_count": null,
   "metadata": {
    "collapsed": false,
    "scrolled": true
   },
   "outputs": [],
   "source": []
  },
  {
   "cell_type": "code",
   "execution_count": null,
   "metadata": {
    "collapsed": false,
    "scrolled": true
   },
   "outputs": [],
   "source": []
  },
  {
   "cell_type": "code",
   "execution_count": 105,
   "metadata": {
    "collapsed": false
   },
   "outputs": [
    {
     "data": {
      "text/plain": [
       "<matplotlib.image.AxesImage at 0x116665ad0>"
      ]
     },
     "execution_count": 105,
     "metadata": {},
     "output_type": "execute_result"
    },
    {
     "data": {
      "image/png": "[encoded data removed]",
      "text/plain": [
       "<matplotlib.figure.Figure at 0x115a8b650>"
      ]
     },
     "metadata": {},
     "output_type": "display_data"
    }
   ],
   "source": [
    "pil_im = Image.open('/Users/khaxis/workspace/image_tags/data/images/n12144987_306', 'r')\n",
    "imshow(np.asarray(pil_im))"
   ]
  },
  {
   "cell_type": "code",
   "execution_count": 3,
   "metadata": {
    "collapsed": false
   },
   "outputs": [
    {
     "name": "stdout",
     "output_type": "stream",
     "text": [
      "{u'target': 0, u'poolId': ObjectId('581645620310e906e31b07ba')}\n",
      "{u'target': 0, u'poolId': ObjectId('581645620310e906e31b07ba')}\n",
      "{u'target': 0, u'poolId': ObjectId('581645620310e906e31b07ba')}\n",
      "{u'target': 0, u'poolId': ObjectId('581645620310e906e31b07ba')}\n",
      "{u'target': 0, u'poolId': ObjectId('581645620310e906e31b07ba')}\n"
     ]
    }
   ],
   "source": [
    "poolId = '581645620310e906e31b07ba'\n",
    "poolIdObj = ObjectId(poolId)\n",
    "for i, row in enumerate(icoll.getPoolUrlsIterator(poolId)):\n",
    "    \n",
    "    print [p for p in row['pools'] if p['poolId'] == poolIdObj][0]\n",
    "    \n",
    "    if i>3:\n",
    "        break"
   ]
  },
  {
   "cell_type": "code",
   "execution_count": 4,
   "metadata": {
    "collapsed": false
   },
   "outputs": [
    {
     "name": "stdout",
     "output_type": "stream",
     "text": [
      "Pool created with ID: 5856d91e0310e928ae13567f\n",
      "\n"
     ]
    }
   ],
   "source": [
    "test_size = 0.30\n",
    "newPoolId = icoll.makePool(\"n00017222 classification pool\")\n",
    "print \"Pool created with ID: %s\\n\" % newPoolId\n",
    "for i, row in enumerate(icoll.getPoolUrlsIterator(poolId)):\n",
    "    in_train_set = random.random() > test_size\n",
    "    target = [p for p in row['pools'] if p['poolId'] == poolIdObj][0][u'target'] # find first occurence in the previous pool\n",
    "    icoll.assignToPool(row, newPoolId, target, in_train_set)"
   ]
  },
  {
   "cell_type": "code",
   "execution_count": 10,
   "metadata": {
    "collapsed": false
   },
   "outputs": [
    {
     "data": {
      "text/plain": [
       "True"
      ]
     },
     "execution_count": 10,
     "metadata": {},
     "output_type": "execute_result"
    }
   ],
   "source": [
    "str(poolIdObj) == poolId"
   ]
  },
  {
   "cell_type": "code",
   "execution_count": 8,
   "metadata": {
    "collapsed": false
   },
   "outputs": [
    {
     "data": {
      "text/plain": [
       "'581645620310e906e31b07ba'"
      ]
     },
     "execution_count": 8,
     "metadata": {},
     "output_type": "execute_result"
    }
   ],
   "source": [
    "poolId"
   ]
  }
 ],
 "metadata": {
  "anaconda-cloud": {},
  "kernelspec": {
   "display_name": "Python 2",
   "language": "python",
   "name": "python2"
  },
  "language_info": {
   "codemirror_mode": {
    "name": "ipython",
    "version": 2
   },
   "file_extension": ".py",
   "mimetype": "text/x-python",
   "name": "python",
   "nbconvert_exporter": "python",
   "pygments_lexer": "ipython2",
   "version": "2.7.12"
  }
 },
 "nbformat": 4,
 "nbformat_minor": 0
}
