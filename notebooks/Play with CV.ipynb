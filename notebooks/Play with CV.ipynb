{
 "cells": [
  {
   "cell_type": "code",
   "execution_count": 56,
   "metadata": {
    "collapsed": true
   },
   "outputs": [],
   "source": [
    "import sys\n",
    "import os\n",
    "sys.path.append(os.path.abspath('..'))  # dirty hack, but ok for research\n",
    "from utils import img_collection as icoll\n",
    "import cv2\n",
    "import numpy as np\n",
    "from sklearn.externals import joblib\n",
    "from scipy.cluster.vq import *\n",
    "from sklearn.preprocessing import StandardScaler"
   ]
  },
  {
   "cell_type": "code",
   "execution_count": 11,
   "metadata": {
    "collapsed": false
   },
   "outputs": [],
   "source": [
    "trainPool = []\n",
    "\n",
    "for i, r in enumerate(icoll.getPoolUrlsIterator('581e06de0310e9180b1f7a62')):\n",
    "    if r['downloadable']:\n",
    "        trainPool.append(r)\n",
    "    if i>10:\n",
    "        break\n"
   ]
  },
  {
   "cell_type": "code",
   "execution_count": 10,
   "metadata": {
    "collapsed": false
   },
   "outputs": [],
   "source": [
    "# Create feature extraction and keypoint detector objects\n",
    "fea_det = cv2.FeatureDetector_create(\"SIFT\")\n",
    "des_ext = cv2.DescriptorExtractor_create(\"SIFT\")"
   ]
  },
  {
   "cell_type": "code",
   "execution_count": 90,
   "metadata": {
    "collapsed": false
   },
   "outputs": [],
   "source": [
    "# List where all the descriptors are stored\n",
    "des_list = []\n",
    "\n",
    "for imageRow in trainPool:\n",
    "    im = cv2.imread(imageRow['path'])\n",
    "    if im is None:\n",
    "        continue\n",
    "    kpts = fea_det.detect(im)\n",
    "    kpts, des = des_ext.compute(im, kpts)\n",
    "    des_list.append(des)"
   ]
  },
  {
   "cell_type": "code",
   "execution_count": 91,
   "metadata": {
    "collapsed": false
   },
   "outputs": [],
   "source": [
    "# Stack all the descriptors vertically in a numpy array\n",
    "descriptors = des_list[0][1]\n",
    "for descriptor in des_list[1:]:\n",
    "    descriptors = np.vstack((descriptors, descriptor))  "
   ]
  },
  {
   "cell_type": "code",
   "execution_count": 92,
   "metadata": {
    "collapsed": false
   },
   "outputs": [],
   "source": [
    "# Perform k-means clustering\n",
    "k = 100\n",
    "voc, variance = kmeans(descriptors, k, 1) "
   ]
  },
  {
   "cell_type": "code",
   "execution_count": 94,
   "metadata": {
    "collapsed": false
   },
   "outputs": [
    {
     "data": {
      "text/plain": [
       "(100, 128)"
      ]
     },
     "execution_count": 94,
     "metadata": {},
     "output_type": "execute_result"
    }
   ],
   "source": [
    "voc.shape"
   ]
  },
  {
   "cell_type": "code",
   "execution_count": 95,
   "metadata": {
    "collapsed": false
   },
   "outputs": [],
   "source": [
    "words, distance = vq(des_list[0],voc)"
   ]
  },
  {
   "cell_type": "code",
   "execution_count": 96,
   "metadata": {
    "collapsed": false
   },
   "outputs": [
    {
     "data": {
      "text/plain": [
       "array([99, 36, 26, 69, 74, 46, 54, 17, 32, 74, 64, 74, 79, 29, 79,  9, 63,\n",
       "       20, 65, 70, 25, 12, 55, 63, 19, 61, 87, 16, 77, 46, 33, 58, 79, 75,\n",
       "        9, 46, 90,  6, 61, 52,  3, 82, 83, 82, 20,  3, 38, 50, 91, 90, 88,\n",
       "       98, 87, 19, 27,  5, 23, 58, 87, 87, 95, 95, 58, 24, 64, 67,  5, 49,\n",
       "        5, 90, 98, 98, 16, 52, 96, 82,  3, 81, 76, 16, 53, 25, 25, 49, 84,\n",
       "       20, 99, 32, 61, 33, 32,  7, 72, 29, 95, 55, 71, 92, 75, 97, 50, 12,\n",
       "       25, 27, 56, 72, 98, 33, 72, 44, 19, 44, 54, 90, 95, 95, 33, 25, 56,\n",
       "       36, 99, 33, 83, 43, 37, 69, 46, 91, 39,  7, 79, 37, 56, 46, 74, 12,\n",
       "       39,  6, 37, 83, 57, 80,  3, 32, 46,  8, 83, 74, 29, 23, 96, 83, 55,\n",
       "       37, 45,  3, 95, 37, 27, 64,  3, 24, 48, 32, 98, 20, 12, 50, 16, 69,\n",
       "       86, 98, 87, 87, 61,  3, 98, 87, 43, 22, 29, 86,  9, 62, 47,  4, 22,\n",
       "       90, 84, 19, 46,  2, 59, 29, 90, 82, 89,  6, 33, 13, 27, 37, 46, 50,\n",
       "       75, 64, 49, 27, 49, 20, 54, 52, 46, 36, 34, 51, 96,  2, 54, 62, 56,\n",
       "       65, 61,  6, 30, 79, 38, 32, 12, 63, 37, 48, 46, 32, 38, 50, 39, 97,\n",
       "       96, 32, 55, 32, 37, 89, 55, 55, 46, 32, 16,  9, 21, 23, 70, 49, 27,\n",
       "       75, 42, 82, 43, 61, 23, 92, 87, 87, 23, 40, 48, 48, 59, 82, 26, 96,\n",
       "       20, 52, 42, 88, 91, 52, 22, 58,  4, 67,  0, 66,  5, 66, 19, 32, 74,\n",
       "       32, 12, 37, 32, 20, 74, 28, 46, 58, 74, 74, 37, 23, 35, 21,  5, 69,\n",
       "       46, 74, 92, 92, 32, 32,  4, 23, 95, 46, 91, 16,  5, 65, 72, 50, 28,\n",
       "       91, 84, 44, 84, 74, 12, 20, 74, 63, 63, 63,  9, 23, 12, 19, 55, 46,\n",
       "       74, 32, 66, 50, 46, 82, 17, 23, 92, 19, 75, 85, 31, 37, 74, 12, 55,\n",
       "       97, 96, 33, 12, 23, 32, 32, 38, 19, 99, 18, 82, 20, 92, 85, 32, 82,\n",
       "       55, 19, 28, 69, 25, 90, 54, 35, 49, 46, 23, 25, 25, 25, 25, 47, 14,\n",
       "       97, 38, 21, 60,  3, 83, 20, 92, 37, 63, 74, 49, 86, 32, 82, 12, 92,\n",
       "       46, 74,  3, 12, 12, 32, 83], dtype=int32)"
      ]
     },
     "execution_count": 96,
     "metadata": {},
     "output_type": "execute_result"
    }
   ],
   "source": [
    "words"
   ]
  },
  {
   "cell_type": "code",
   "execution_count": 97,
   "metadata": {
    "collapsed": false
   },
   "outputs": [
    {
     "data": {
      "text/plain": [
       "['SIFT_bow_k100.pkl']"
      ]
     },
     "execution_count": 97,
     "metadata": {},
     "output_type": "execute_result"
    }
   ],
   "source": [
    "imFeatures = np.zeros((len(des_list), k), \"float32\")\n",
    "for i in xrange(len(des_list)):\n",
    "    words, distance = vq(des_list[i],voc)\n",
    "    for w in words:\n",
    "        imFeatures[i][w] += 1\n",
    "\n",
    "# Scaling the words\n",
    "stdSlr = StandardScaler().fit(imFeatures)\n",
    "joblib.dump((stdSlr, k, voc), \"SIFT_bow_k100.pkl\", compress=3)\n",
    "#imFeatures = stdSlr.transform(imFeatures)\n",
    "\n"
   ]
  },
  {
   "cell_type": "code",
   "execution_count": 100,
   "metadata": {
    "collapsed": false
   },
   "outputs": [
    {
     "data": {
      "text/plain": [
       "1.0"
      ]
     },
     "execution_count": 100,
     "metadata": {},
     "output_type": "execute_result"
    }
   ],
   "source": [
    "stdSlr.transform(imFeatures).std()"
   ]
  },
  {
   "cell_type": "code",
   "execution_count": 101,
   "metadata": {
    "collapsed": true
   },
   "outputs": [],
   "source": [
    "stdSlr_f, k_f, voc_f = joblib.load(\"SIFT_bow_k100.pkl\")"
   ]
  },
  {
   "cell_type": "code",
   "execution_count": 102,
   "metadata": {
    "collapsed": false
   },
   "outputs": [],
   "source": [
    "trainPool_f = []\n",
    "for i, r in enumerate(icoll.getPoolUrlsIterator('581e06de0310e9180b1f7a62')):\n",
    "    if i < 10:\n",
    "        continue\n",
    "    if r['downloadable']:\n",
    "        trainPool_f.append(r)\n",
    "    if i>20:\n",
    "        break"
   ]
  },
  {
   "cell_type": "code",
   "execution_count": 109,
   "metadata": {
    "collapsed": false
   },
   "outputs": [
    {
     "name": "stdout",
     "output_type": "stream",
     "text": [
      "2.49087\n",
      "0.857715\n",
      "0.942595\n",
      "0.818133\n",
      "0.925379\n",
      "0.535422\n",
      "1.73688\n"
     ]
    }
   ],
   "source": [
    "for imageRow in trainPool_f:\n",
    "    im = cv2.imread(imageRow['path'])\n",
    "    if im is None:\n",
    "        continue\n",
    "    kpts = fea_det.detect(im)\n",
    "    kpts, des = des_ext.compute(im, kpts)\n",
    "    imFeatures = np.zeros((1, k), \"float32\")\n",
    "    words, distance = vq(des, voc_f)\n",
    "    for w in words:\n",
    "        imFeatures[0][w] += 1\n",
    "    imFeatures = stdSlr_f.transform(imFeatures)\n",
    "    print imFeatures\n",
    "    #des_list.append(des)   "
   ]
  },
  {
   "cell_type": "code",
   "execution_count": 104,
   "metadata": {
    "collapsed": false
   },
   "outputs": [
    {
     "data": {
      "text/plain": [
       "(1925, 128)"
      ]
     },
     "execution_count": 104,
     "metadata": {},
     "output_type": "execute_result"
    }
   ],
   "source": [
    "des.shape"
   ]
  }
 ],
 "metadata": {
  "kernelspec": {
   "display_name": "Python 2",
   "language": "python",
   "name": "python2"
  },
  "language_info": {
   "codemirror_mode": {
    "name": "ipython",
    "version": 2
   },
   "file_extension": ".py",
   "mimetype": "text/x-python",
   "name": "python",
   "nbconvert_exporter": "python",
   "pygments_lexer": "ipython2",
   "version": "2.7.12"
  }
 },
 "nbformat": 4,
 "nbformat_minor": 0
}
