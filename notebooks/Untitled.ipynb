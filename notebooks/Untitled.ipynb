{
 "cells": [
  {
   "cell_type": "code",
   "execution_count": 6,
   "metadata": {
    "collapsed": false
   },
   "outputs": [
    {
     "name": "stdout",
     "output_type": "stream",
     "text": [
      "['AuthSubTokenInfo', 'ClientLogin', 'CreateFolder', 'Delete', 'Download', 'DownloadDocument', 'DownloadPresentation', 'DownloadSpreadsheet', 'Export', 'FetchOAuthRequestToken', 'GenerateAuthSubURL', 'GenerateOAuthAuthorizationURL', 'Get', 'GetAuthSubToken', 'GetClientLoginToken', 'GetDocumentListAclEntry', 'GetDocumentListAclFeed', 'GetDocumentListEntry', 'GetDocumentListFeed', 'GetEntry', 'GetFeed', 'GetGeneratorFromLinkFinder', 'GetMedia', 'GetNext', 'GetOAuthInputParameters', 'GetWithRetries', 'MoveDocumentIntoFolder', 'MoveFolderIntoFolder', 'MoveIntoFolder', 'MoveOutOfFolder', 'MovePresentationIntoFolder', 'MoveSpreadsheetIntoFolder', 'Post', 'PostOrPut', 'ProgrammaticLogin', 'Put', 'Query', 'QueryDocumentListFeed', 'RevokeAuthSubToken', 'RevokeOAuthToken', 'SetAuthSubToken', 'SetClientLoginToken', 'SetOAuthInputParameters', 'SetOAuthToken', 'UpgradeToOAuthAccessToken', 'UpgradeToSessionToken', 'Upload', 'UploadDocument', 'UploadPresentation', 'UploadSpreadsheet', 'UseBasicAuth', '_DocsService__FILE_EXT_PATTERN', '_DocsService__RESOURCE_ID_PATTERN', '_DownloadFile', '_GDataService__GetCaptchaToken', '_GDataService__GetCaptchaURL', '_GDataService__GetSource', '_GDataService__SetAuthSubToken', '_GDataService__SetSource', '_GDataService__captcha_token', '_GDataService__captcha_url', '_GDataService__gsessionid', '_GDataService__source', '_GetAuthToken', '_GetCaptchaToken', '_GetCaptchaURL', '_GetElementGeneratorFromLinkFinder', '_MakeContentLinkFromId', '_MakeKindCategory', '_SetAuthSubToken', '_SetSessionId', '_UploadFile', '__class__', '__delattr__', '__dict__', '__doc__', '__format__', '__getattribute__', '__hash__', '__init__', '__module__', '__new__', '__reduce__', '__reduce_ex__', '__repr__', '__setattr__', '__sizeof__', '__str__', '__subclasshook__', '__weakref__', '_get_debug', '_get_override_token', '_oauth_input_params', '_set_debug', '_set_override_token', 'account_type', 'additional_headers', 'auth_service_url', 'auth_token', 'auto_set_current_token', 'auto_store_tokens', 'captcha_token', 'captcha_url', 'current_token', 'debug', 'email', 'handler', 'http_client', 'override_token', 'password', 'port', 'request', 'server', 'service', 'source', 'ssl', 'token_store', 'tokens', 'upgrade_to_session_token', 'use_basic_auth']\n"
     ]
    },
    {
     "ename": "RequestError",
     "evalue": "{'status': 401, 'body': '<HTML>\\n<HEAD>\\n<TITLE>Authorization required</TITLE>\\n</HEAD>\\n<BODY BGCOLOR=\"#FFFFFF\" TEXT=\"#000000\">\\n<H1>Authorization required</H1>\\n<H2>Error 401</H2>\\n</BODY>\\n</HTML>\\n', 'reason': 'Authorization required'}",
     "output_type": "error",
     "traceback": [
      "\u001b[0;31m---------------------------------------------------------------------------\u001b[0m",
      "\u001b[0;31mRequestError\u001b[0m                              Traceback (most recent call last)",
      "\u001b[0;32m<ipython-input-6-451d335be7f3>\u001b[0m in \u001b[0;36m<module>\u001b[0;34m()\u001b[0m\n\u001b[1;32m      8\u001b[0m \u001b[0;34m\u001b[0m\u001b[0m\n\u001b[1;32m      9\u001b[0m \u001b[0;31m# Query the server for an Atom feed containing a list of your documents.\u001b[0m\u001b[0;34m\u001b[0m\u001b[0;34m\u001b[0m\u001b[0m\n\u001b[0;32m---> 10\u001b[0;31m \u001b[0mdocuments_feed\u001b[0m \u001b[0;34m=\u001b[0m \u001b[0mclient\u001b[0m\u001b[0;34m.\u001b[0m\u001b[0mGetDocumentListFeed\u001b[0m\u001b[0;34m(\u001b[0m\u001b[0;34m)\u001b[0m\u001b[0;34m\u001b[0m\u001b[0m\n\u001b[0m\u001b[1;32m     11\u001b[0m \u001b[0;31m# Loop through the feed and extract each document entry.\u001b[0m\u001b[0;34m\u001b[0m\u001b[0;34m\u001b[0m\u001b[0m\n\u001b[1;32m     12\u001b[0m \u001b[0;32mfor\u001b[0m \u001b[0mdocument_entry\u001b[0m \u001b[0;32min\u001b[0m \u001b[0mdocuments_feed\u001b[0m\u001b[0;34m.\u001b[0m\u001b[0mentry\u001b[0m\u001b[0;34m:\u001b[0m\u001b[0;34m\u001b[0m\u001b[0m\n",
      "\u001b[0;32m//anaconda/lib/python2.7/site-packages/gdata/docs/service.pyc\u001b[0m in \u001b[0;36mGetDocumentListFeed\u001b[0;34m(self, uri)\u001b[0m\n\u001b[1;32m    257\u001b[0m     \u001b[0;32mif\u001b[0m \u001b[0;32mnot\u001b[0m \u001b[0muri\u001b[0m\u001b[0;34m:\u001b[0m\u001b[0;34m\u001b[0m\u001b[0m\n\u001b[1;32m    258\u001b[0m       \u001b[0muri\u001b[0m \u001b[0;34m=\u001b[0m \u001b[0mgdata\u001b[0m\u001b[0;34m.\u001b[0m\u001b[0mdocs\u001b[0m\u001b[0;34m.\u001b[0m\u001b[0mservice\u001b[0m\u001b[0;34m.\u001b[0m\u001b[0mDocumentQuery\u001b[0m\u001b[0;34m(\u001b[0m\u001b[0;34m)\u001b[0m\u001b[0;34m.\u001b[0m\u001b[0mToUri\u001b[0m\u001b[0;34m(\u001b[0m\u001b[0;34m)\u001b[0m\u001b[0;34m\u001b[0m\u001b[0m\n\u001b[0;32m--> 259\u001b[0;31m     \u001b[0;32mreturn\u001b[0m \u001b[0mself\u001b[0m\u001b[0;34m.\u001b[0m\u001b[0mQueryDocumentListFeed\u001b[0m\u001b[0;34m(\u001b[0m\u001b[0muri\u001b[0m\u001b[0;34m)\u001b[0m\u001b[0;34m\u001b[0m\u001b[0m\n\u001b[0m\u001b[1;32m    260\u001b[0m \u001b[0;34m\u001b[0m\u001b[0m\n\u001b[1;32m    261\u001b[0m   \u001b[0;32mdef\u001b[0m \u001b[0mGetDocumentListAclEntry\u001b[0m\u001b[0;34m(\u001b[0m\u001b[0mself\u001b[0m\u001b[0;34m,\u001b[0m \u001b[0muri\u001b[0m\u001b[0;34m)\u001b[0m\u001b[0;34m:\u001b[0m\u001b[0;34m\u001b[0m\u001b[0m\n",
      "\u001b[0;32m//anaconda/lib/python2.7/site-packages/gdata/docs/service.pyc\u001b[0m in \u001b[0;36mQueryDocumentListFeed\u001b[0;34m(self, uri)\u001b[0m\n\u001b[1;32m    236\u001b[0m       \u001b[0mA\u001b[0m \u001b[0mDocumentListFeed\u001b[0m \u001b[0mobject\u001b[0m \u001b[0mrepresenting\u001b[0m \u001b[0mthe\u001b[0m \u001b[0mfeed\u001b[0m \u001b[0mreturned\u001b[0m \u001b[0mby\u001b[0m \u001b[0mthe\u001b[0m \u001b[0mserver\u001b[0m\u001b[0;34m.\u001b[0m\u001b[0;34m\u001b[0m\u001b[0m\n\u001b[1;32m    237\u001b[0m     \"\"\"\n\u001b[0;32m--> 238\u001b[0;31m     \u001b[0;32mreturn\u001b[0m \u001b[0mself\u001b[0m\u001b[0;34m.\u001b[0m\u001b[0mGet\u001b[0m\u001b[0;34m(\u001b[0m\u001b[0muri\u001b[0m\u001b[0;34m,\u001b[0m \u001b[0mconverter\u001b[0m\u001b[0;34m=\u001b[0m\u001b[0mgdata\u001b[0m\u001b[0;34m.\u001b[0m\u001b[0mdocs\u001b[0m\u001b[0;34m.\u001b[0m\u001b[0mDocumentListFeedFromString\u001b[0m\u001b[0;34m)\u001b[0m\u001b[0;34m\u001b[0m\u001b[0m\n\u001b[0m\u001b[1;32m    239\u001b[0m \u001b[0;34m\u001b[0m\u001b[0m\n\u001b[1;32m    240\u001b[0m   \u001b[0;32mdef\u001b[0m \u001b[0mGetDocumentListEntry\u001b[0m\u001b[0;34m(\u001b[0m\u001b[0mself\u001b[0m\u001b[0;34m,\u001b[0m \u001b[0muri\u001b[0m\u001b[0;34m)\u001b[0m\u001b[0;34m:\u001b[0m\u001b[0;34m\u001b[0m\u001b[0m\n",
      "\u001b[0;32m//anaconda/lib/python2.7/site-packages/gdata/service.pyc\u001b[0m in \u001b[0;36mGet\u001b[0;34m(self, uri, extra_headers, redirects_remaining, encoding, converter)\u001b[0m\n\u001b[1;32m   1105\u001b[0m     \u001b[0;32melse\u001b[0m\u001b[0;34m:\u001b[0m\u001b[0;34m\u001b[0m\u001b[0m\n\u001b[1;32m   1106\u001b[0m       raise RequestError, {'status': server_response.status,\n\u001b[0;32m-> 1107\u001b[0;31m           'reason': server_response.reason, 'body': result_body}\n\u001b[0m\u001b[1;32m   1108\u001b[0m \u001b[0;34m\u001b[0m\u001b[0m\n\u001b[1;32m   1109\u001b[0m   \u001b[0;32mdef\u001b[0m \u001b[0mGetMedia\u001b[0m\u001b[0;34m(\u001b[0m\u001b[0mself\u001b[0m\u001b[0;34m,\u001b[0m \u001b[0muri\u001b[0m\u001b[0;34m,\u001b[0m \u001b[0mextra_headers\u001b[0m\u001b[0;34m=\u001b[0m\u001b[0mNone\u001b[0m\u001b[0;34m)\u001b[0m\u001b[0;34m:\u001b[0m\u001b[0;34m\u001b[0m\u001b[0m\n",
      "\u001b[0;31mRequestError\u001b[0m: {'status': 401, 'body': '<HTML>\\n<HEAD>\\n<TITLE>Authorization required</TITLE>\\n</HEAD>\\n<BODY BGCOLOR=\"#FFFFFF\" TEXT=\"#000000\">\\n<H1>Authorization required</H1>\\n<H2>Error 401</H2>\\n</BODY>\\n</HTML>\\n', 'reason': 'Authorization required'}"
     ]
    }
   ],
   "source": [
    "import gdata.docs.service\n",
    "\n",
    "# Create a client class which will make HTTP requests with Google Docs server.\n",
    "client = gdata.docs.service.DocsService()\n",
    "# Authenticate using your Google Docs email address and password.\n",
    "client.ClientLogin('khaxis@gmail.com', 'ffc96dHom')\n",
    "print dir(client)\n",
    "\n",
    "# Query the server for an Atom feed containing a list of your documents.\n",
    "documents_feed = client.GetDocumentListFeed()\n",
    "# Loop through the feed and extract each document entry.\n",
    "for document_entry in documents_feed.entry:\n",
    "  # Display the title of the document on the command line.\n",
    "  print document_entry.title.text"
   ]
  },
  {
   "cell_type": "code",
   "execution_count": 9,
   "metadata": {
    "collapsed": false
   },
   "outputs": [
    {
     "ename": "ClientLoginFailed",
     "evalue": "Server responded to ClientLogin request: 404, https://developers.google.com/accounts/docs/AuthForInstalledApps\n",
     "output_type": "error",
     "traceback": [
      "\u001b[0;31m---------------------------------------------------------------------------\u001b[0m",
      "\u001b[0;31mClientLoginFailed\u001b[0m                         Traceback (most recent call last)",
      "\u001b[0;32m<ipython-input-9-0be3a16e9c04>\u001b[0m in \u001b[0;36m<module>\u001b[0;34m()\u001b[0m\n\u001b[1;32m      8\u001b[0m auth_token = client.ClientLogin(email, password,\n\u001b[1;32m      9\u001b[0m                                 \u001b[0mapplication_name\u001b[0m\u001b[0;34m,\u001b[0m\u001b[0;34m\u001b[0m\u001b[0m\n\u001b[0;32m---> 10\u001b[0;31m                                 service='cl')\n\u001b[0m",
      "\u001b[0;32m//anaconda/lib/python2.7/site-packages/gdata/client.pyc\u001b[0m in \u001b[0;36mclient_login\u001b[0;34m(self, email, password, source, service, account_type, auth_url, captcha_token, captcha_response)\u001b[0m\n\u001b[1;32m    439\u001b[0m     self.auth_token = self.request_client_login_token(email, password,\n\u001b[1;32m    440\u001b[0m         \u001b[0msource\u001b[0m\u001b[0;34m,\u001b[0m \u001b[0mservice\u001b[0m\u001b[0;34m=\u001b[0m\u001b[0mservice\u001b[0m\u001b[0;34m,\u001b[0m \u001b[0maccount_type\u001b[0m\u001b[0;34m=\u001b[0m\u001b[0maccount_type\u001b[0m\u001b[0;34m,\u001b[0m \u001b[0mauth_url\u001b[0m\u001b[0;34m=\u001b[0m\u001b[0mauth_url\u001b[0m\u001b[0;34m,\u001b[0m\u001b[0;34m\u001b[0m\u001b[0m\n\u001b[0;32m--> 441\u001b[0;31m         captcha_token=captcha_token, captcha_response=captcha_response)\n\u001b[0m\u001b[1;32m    442\u001b[0m     \u001b[0;32mif\u001b[0m \u001b[0mself\u001b[0m\u001b[0;34m.\u001b[0m\u001b[0malt_auth_service\u001b[0m \u001b[0;32mis\u001b[0m \u001b[0;32mnot\u001b[0m \u001b[0mNone\u001b[0m\u001b[0;34m:\u001b[0m\u001b[0;34m\u001b[0m\u001b[0m\n\u001b[1;32m    443\u001b[0m       self.alt_auth_token = self.request_client_login_token(\n",
      "\u001b[0;32m//anaconda/lib/python2.7/site-packages/gdata/client.pyc\u001b[0m in \u001b[0;36mrequest_client_login_token\u001b[0;34m(self, email, password, source, service, account_type, auth_url, captcha_token, captcha_response)\u001b[0m\n\u001b[1;32m    371\u001b[0m     \u001b[0;32melse\u001b[0m\u001b[0;34m:\u001b[0m\u001b[0;34m\u001b[0m\u001b[0m\n\u001b[1;32m    372\u001b[0m       raise error_from_response('Server responded to ClientLogin request',\n\u001b[0;32m--> 373\u001b[0;31m                                 response, ClientLoginFailed, response_body)\n\u001b[0m\u001b[1;32m    374\u001b[0m \u001b[0;34m\u001b[0m\u001b[0m\n\u001b[1;32m    375\u001b[0m   \u001b[0mRequestClientLoginToken\u001b[0m \u001b[0;34m=\u001b[0m \u001b[0mrequest_client_login_token\u001b[0m\u001b[0;34m\u001b[0m\u001b[0m\n",
      "\u001b[0;31mClientLoginFailed\u001b[0m: Server responded to ClientLogin request: 404, https://developers.google.com/accounts/docs/AuthForInstalledApps\n"
     ]
    }
   ],
   "source": [
    "import gdata.calendar.client\n",
    "\n",
    "email = 'khaxis@gmail.com'\n",
    "password = 'ffc96dHom'\n",
    "application_name = 'khaxis-image_tags-v1'\n",
    "\n",
    "client = gdata.calendar.client.CalendarClient()\n",
    "auth_token = client.ClientLogin(email, password,\n",
    "                                application_name,\n",
    "                                service='cl')"
   ]
  },
  {
   "cell_type": "code",
   "execution_count": 11,
   "metadata": {
    "collapsed": true
   },
   "outputs": [],
   "source": [
    "import gdata.photos.service\n",
    "import gdata.media\n",
    "import gdata.geo\n",
    "\n",
    "gd_client = gdata.photos.service.PhotosService()\n",
    "gd_client.email = email\n",
    "gd_client.password = password\n",
    "gd_client.source = 'exampleCo-exampleApp-1'\n",
    "gd_client.ProgrammaticLogin()"
   ]
  },
  {
   "cell_type": "code",
   "execution_count": 14,
   "metadata": {
    "collapsed": false
   },
   "outputs": [
    {
     "name": "stdout",
     "output_type": "stream",
     "text": [
      "title: Profile Photos, number of photos: 0, id: 5713486183143119793\n"
     ]
    }
   ],
   "source": []
  },
  {
   "cell_type": "code",
   "execution_count": null,
   "metadata": {
    "collapsed": true
   },
   "outputs": [],
   "source": []
  },
  {
   "cell_type": "code",
   "execution_count": 18,
   "metadata": {
    "collapsed": false
   },
   "outputs": [
    {
     "data": {
      "text/plain": [
       "{u'client_id': u'1077019780273-h39pnn4p8ebtd2e5lvunrvl3msoigpo9.apps.googleusercontent.com',\n",
       " u'secret': u'F2R-4n9eoGqOtEhlfCojxOJ3'}"
      ]
     },
     "execution_count": 18,
     "metadata": {},
     "output_type": "execute_result"
    }
   ],
   "source": [
    "import json\n",
    "\n",
    "with open('/Users/khaxis/workspace/image_tags/auth.json') as data_file:    \n",
    "    auth = json.load(data_file)\n",
    "auth"
   ]
  },
  {
   "cell_type": "code",
   "execution_count": 26,
   "metadata": {
    "collapsed": false
   },
   "outputs": [
    {
     "name": "stdout",
     "output_type": "stream",
     "text": [
      "title: Profile Photos, number of photos: 0, id: 5713486183143119793\n"
     ]
    }
   ],
   "source": [
    "albums = gd_client.GetUserFeed(user='khaxis@gmail.com')\n",
    "for album in albums.entry:\n",
    "    print 'title: %s, number of photos: %s, id: %s' % (album.title.text,\n",
    "      album.numphotos.text, album.gphoto_id.text)\n"
   ]
  }
 ],
 "metadata": {
  "kernelspec": {
   "display_name": "Python 2",
   "language": "python",
   "name": "python2"
  },
  "language_info": {
   "codemirror_mode": {
    "name": "ipython",
    "version": 2
   },
   "file_extension": ".py",
   "mimetype": "text/x-python",
   "name": "python",
   "nbconvert_exporter": "python",
   "pygments_lexer": "ipython2",
   "version": "2.7.11"
  }
 },
 "nbformat": 4,
 "nbformat_minor": 0
}
